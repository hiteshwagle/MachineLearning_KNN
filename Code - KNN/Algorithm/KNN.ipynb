{
 "cells": [
  {
   "cell_type": "markdown",
   "metadata": {},
   "source": [
    "# k-NN classifier"
   ]
  },
  {
   "cell_type": "markdown",
   "metadata": {},
   "source": [
    "### Load data, select validation set and apply SVD on training data"
   ]
  },
  {
   "cell_type": "code",
   "execution_count": 1,
   "metadata": {},
   "outputs": [],
   "source": [
    "import h5py\n",
    "import numpy as np\n",
    "import time\n",
    "# load data\n",
    "with h5py.File('/Users/liutong/Downloads/5318/assignment1/knn/images_training.h5','r') as H:\n",
    "    data = np.copy(H['data'])\n",
    "with h5py.File('/Users/liutong/Downloads/5318/assignment1/knn/labels_training.h5','r') as H:\n",
    "    label = np.copy(H['label'])\n",
    "with h5py.File('/Users/liutong/Downloads/5318/assignment1/knn/images_testing.h5','r') as H:\n",
    "    test_data = np.copy(H['data'])\n",
    "with h5py.File('/Users/liutong/Downloads/5318/assignment1/knn/labels_testing_2000.h5','r') as H:\n",
    "    test_label = np.copy(H['label'])"
   ]
  },
  {
   "cell_type": "code",
   "execution_count": 2,
   "metadata": {},
   "outputs": [],
   "source": [
    "def Validation_dataset(X, Y, percent):\n",
    "    k=int((percent/100)*X.shape[1])\n",
    "    rand= np.random.permutation(X.shape[1])\n",
    "    rand= rand[0:k]\n",
    "    All_index=np.arange(X.shape[1])\n",
    "    a=set(rand)\n",
    "    b=set(All_index)\n",
    "    c=b-a\n",
    "    a=sorted(a)\n",
    "    c=sorted(c)\n",
    "\n",
    "    Train_Data_mat=np.zeros((X.shape[0],len(c)))\n",
    "    Train_labels= np.zeros((len(c)))\n",
    "    Val_Data_mat=np.zeros((X.shape[0], len(a)))\n",
    "    Val_labels= np.zeros((len(a)))\n",
    "    for i in range(len(c)):\n",
    "        Train_Data_mat[:,i]=X[:,c[i]]\n",
    "        Train_labels[i]= Y[c[i]]\n",
    "    for i in range(len(a)):\n",
    "        Val_Data_mat[:,i]=X[:,a[i]]\n",
    "        Val_labels[i]= Y[a[i]] \n",
    "        \n",
    "    return Train_Data_mat, Train_labels, Val_Data_mat, Val_labels"
   ]
  },
  {
   "cell_type": "code",
   "execution_count": 3,
   "metadata": {},
   "outputs": [],
   "source": [
    "def SVD(X, var_desired):\n",
    "    U, s, Vt= np.linalg.svd(X, full_matrices=False)\n",
    "    sum_ev_sq=np.sum(s**2)\n",
    "    s_square=np.square(s)\n",
    "    cumsum_s=np.cumsum(s_square)\n",
    "    var_arr=cumsum_s/sum_ev_sq\n",
    "    k=np.argmax(var_arr>var_desired)\n",
    "    k=k+1\n",
    "    S=np.diag(s)\n",
    "    X_hat_reconst=U[:,0:k].dot(S[0:k,0:k]).dot(Vt[0:k,:])\n",
    "    data=X\n",
    "    data_hat_reconstructed=X_hat_reconst\n",
    "    SSE = np.sum((data - data_hat_reconstructed)**2)\n",
    "    n=k\n",
    "    comp_ratio = (data.shape[1]*n + n + data.shape[0]*n)/(data.shape[1] * data.shape[0])\n",
    "    return X_hat_reconst, k, comp_ratio   "
   ]
  },
  {
   "cell_type": "markdown",
   "metadata": {},
   "source": [
    "### Main k-NN algorithm"
   ]
  },
  {
   "cell_type": "code",
   "execution_count": 21,
   "metadata": {},
   "outputs": [],
   "source": [
    "def KNN(data, label, test_data, k):\n",
    "    pre_label = []\n",
    "    for i in range(test_data.shape[1]): \n",
    "        X_q = test_data[:, i][:, np.newaxis]# the ith test image\n",
    "        dis = ((data - X_q)**2).sum(axis=0) # distance list of this query point to every training image: (30000,)\n",
    "        arg_ascending = np.argsort(dis) #(30000,)\n",
    "        classes = np.zeros(10)\n",
    "        for j in range(k):\n",
    "            for m in range(10):\n",
    "                if label[arg_ascending[j]] == m:\n",
    "                    classes[m] += 1\n",
    "                    break\n",
    "        #prob = classes / k\n",
    "        l = np.argmax(classes)\n",
    "        pre_label.append(l)\n",
    "    return pre_label"
   ]
  },
  {
   "cell_type": "markdown",
   "metadata": {},
   "source": [
    "### Confusion Matrix and Performance Metrics functions"
   ]
  },
  {
   "cell_type": "code",
   "execution_count": 5,
   "metadata": {},
   "outputs": [],
   "source": [
    "def Confusn_mat(labels_pred, Y):\n",
    "    lst=[]\n",
    "    true_pos=0\n",
    "    false_posit=0\n",
    "    false_negat=0\n",
    "    true_neg=0\n",
    "    for i in range(len(labels_pred)):\n",
    "        if (labels_pred[i]== 1 and Y[i]==1):\n",
    "            true_pos=true_pos +1\n",
    "        elif (labels_pred[i]==1 and Y[i]==0):\n",
    "            false_posit=false_posit+1\n",
    "        elif (labels_pred[i]==0 and Y[i]==1):\n",
    "            false_negat=false_negat+1\n",
    "        else:\n",
    "            true_neg=true_neg+1\n",
    "    lst=[true_pos, false_posit, false_negat, true_neg]\n",
    "    lst=np.asarray(lst)\n",
    "    return lst"
   ]
  },
  {
   "cell_type": "code",
   "execution_count": 6,
   "metadata": {},
   "outputs": [],
   "source": [
    "def FindConfMat(pred_labels, Y_test):\n",
    "    unique, counts=np.unique(Y_test, return_counts=True)\n",
    "    Conf_mat4All= np.zeros((len(unique), 4))\n",
    "    Param_mat4All= np.zeros((len(unique), 6))\n",
    "    for j in range(len(unique)):\n",
    "        pred_labels_bin=[]\n",
    "        Y_test_bin=[]\n",
    "        for i in range(len(Y_test)):\n",
    "            if (pred_labels[i]==j):\n",
    "                pred_labels_bin.append(1)\n",
    "            else:\n",
    "                pred_labels_bin.append(0)\n",
    "            if(Y_test[i]==j):\n",
    "                Y_test_bin.append(1)\n",
    "            else:\n",
    "                Y_test_bin.append(0)\n",
    "        Conf_mat4All[j]=Confusn_mat(pred_labels_bin, Y_test_bin)\n",
    "        Param_mat4All[j]=Parameters(Conf_mat4All[j][0], Conf_mat4All[j][1], Conf_mat4All[j][2], Conf_mat4All[j][3])\n",
    "    return Conf_mat4All, Param_mat4All"
   ]
  },
  {
   "cell_type": "code",
   "execution_count": 35,
   "metadata": {},
   "outputs": [],
   "source": [
    "# Performance Metrics\n",
    "def Parameters(true_pos, false_posit, false_negat, true_neg):\n",
    "    #print(true_pos, false_posit, false_negat, true_neg)\n",
    "    lst=[]\n",
    "    Accuracy=((true_pos+true_neg)/(true_pos+true_neg+false_posit+false_negat))*100\n",
    "    Accuracy = str(round(Accuracy, 2))\n",
    "    Precision= true_pos/(true_pos+false_posit)\n",
    "    Recall= true_pos/(true_pos+false_negat)\n",
    "    F_measure=(2*true_pos)/(2*true_pos + false_negat+ false_posit)\n",
    "    TPR=true_pos/(true_pos + false_negat)\n",
    "    FPR= false_posit/(false_posit + true_neg)\n",
    "    lst=[Accuracy, Precision, Recall, F_measure, TPR, FPR]\n",
    "    lst=np.asarray(lst)\n",
    "    return lst"
   ]
  },
  {
   "cell_type": "markdown",
   "metadata": {},
   "source": [
    "### Data preprocessing and normalization"
   ]
  },
  {
   "cell_type": "code",
   "execution_count": 8,
   "metadata": {},
   "outputs": [],
   "source": [
    "# transform to 2D matrix and normalization\n",
    "data = np.reshape(data, (30000, -1))\n",
    "test_data = np.reshape(test_data, (5000, -1))\n",
    "data = data.T\n",
    "test_data = test_data.T\n",
    "data = data/255\n",
    "test_data = test_data/255"
   ]
  },
  {
   "cell_type": "markdown",
   "metadata": {},
   "source": [
    "### Calculate Accuracy, Confusion Matrix and Performance Metrics for validation data, train data, and test data"
   ]
  },
  {
   "cell_type": "code",
   "execution_count": 33,
   "metadata": {},
   "outputs": [
    {
     "name": "stdout",
     "output_type": "stream",
     "text": [
      "n_components:  90\n",
      "Accuracy: 85.45%\n",
      "[[ 558.  143.   88. 5211.]\n",
      " [ 562.    5.   21. 5412.]\n",
      " [ 480.  184.  113. 5223.]\n",
      " [ 500.   71.   76. 5353.]\n",
      " [ 456.  131.  153. 5260.]\n",
      " [ 536.   16.   80. 5368.]\n",
      " [ 326.  164.  248. 5262.]\n",
      " [ 529.   88.   36. 5347.]\n",
      " [ 590.   21.   18. 5371.]\n",
      " [ 590.   50.   40. 5320.]]\n",
      "[[96.15  0.8   0.86  0.83  0.86  0.03]\n",
      " [99.57  0.99  0.96  0.98  0.96  0.  ]\n",
      " [95.05  0.72  0.81  0.76  0.81  0.03]\n",
      " [97.55  0.88  0.87  0.87  0.87  0.01]\n",
      " [95.27  0.78  0.75  0.76  0.75  0.02]\n",
      " [98.4   0.97  0.87  0.92  0.87  0.  ]\n",
      " [93.13  0.67  0.57  0.61  0.57  0.03]\n",
      " [97.93  0.86  0.94  0.9   0.94  0.02]\n",
      " [99.35  0.97  0.97  0.97  0.97  0.  ]\n",
      " [98.5   0.92  0.94  0.93  0.94  0.01]]\n"
     ]
    }
   ],
   "source": [
    "# validation data\n",
    "pre_label = []\n",
    "var_desired = 0.96\n",
    "Train_Data_mat, Train_labels, Val_Data_mat, Val_labels = Validation_dataset(data, label, 20)\n",
    "X_hat_reconst, n_components, comp_ratio = SVD(Train_Data_mat, var_desired)\n",
    "val_pre_label = KNN(X_hat_reconst, Train_labels, Val_Data_mat, Val_labels, 6)\n",
    "Conf_mat4All_Val, Param_mat4All_Val = FindConfMat(val_pre_label, Val_labels)\n",
    "correct = [1 if i == j else 0 for (i, j) in zip(val_pre_label, Val_labels)]\n",
    "accuracy_Val = (sum(correct) / float(len(Val_labels)))\n",
    "print('n_components: ', n_components)\n",
    "print('Accuracy: {}%'.format(np.round(accuracy_Val*100, 2)))\n",
    "np.set_printoptions(suppress=True)\n",
    "print(Conf_mat4All_Val)\n",
    "print(np.round(Param_mat4All_Val, 2))"
   ]
  },
  {
   "cell_type": "code",
   "execution_count": 36,
   "metadata": {},
   "outputs": [
    {
     "name": "stdout",
     "output_type": "stream",
     "text": [
      "Accuracy: 89.13%\n",
      "[[ 2171.   534.   194. 21101.]\n",
      " [ 2319.    18.    54. 21609.]\n",
      " [ 2076.   527.   351. 21046.]\n",
      " [ 2204.   210.   222. 21364.]\n",
      " [ 1998.   442.   422. 21138.]\n",
      " [ 2224.    44.   188. 21544.]\n",
      " [ 1497.   421.   896. 21186.]\n",
      " [ 2239.   186.    91. 21484.]\n",
      " [ 2298.    72.    96. 21534.]\n",
      " [ 2366.   154.    94. 21386.]]\n",
      "[[96.97  0.8   0.92  0.86  0.92  0.02]\n",
      " [99.7   0.99  0.98  0.98  0.98  0.  ]\n",
      " [96.34  0.8   0.86  0.83  0.86  0.02]\n",
      " [98.2   0.91  0.91  0.91  0.91  0.01]\n",
      " [96.4   0.82  0.83  0.82  0.83  0.02]\n",
      " [99.03  0.98  0.92  0.95  0.92  0.  ]\n",
      " [94.51  0.78  0.63  0.69  0.63  0.02]\n",
      " [98.85  0.92  0.96  0.94  0.96  0.01]\n",
      " [99.3   0.97  0.96  0.96  0.96  0.  ]\n",
      " [98.97  0.94  0.96  0.95  0.96  0.01]]\n"
     ]
    }
   ],
   "source": [
    "# train data\n",
    "pre_label = []\n",
    "var_desired = 0.96\n",
    "train_pre_label = KNN(X_hat_reconst, Train_labels, X_hat_reconst, Train_labels, 6)\n",
    "Conf_mat4All_train, Param_mat4All_train = FindConfMat(train_pre_label, Train_labels)\n",
    "correct = [1 if i == j else 0 for (i, j) in zip(train_pre_label, Train_labels)]\n",
    "accuracy_train = (sum(correct) / float(len(Train_labels)))\n",
    "print('Accuracy: {}%'.format(np.round(accuracy_train*100, 2)))\n",
    "np.set_printoptions(suppress=True)\n",
    "print(Conf_mat4All_train)\n",
    "print(np.round(Param_mat4All_train, 2))"
   ]
  },
  {
   "cell_type": "code",
   "execution_count": 38,
   "metadata": {},
   "outputs": [
    {
     "name": "stdout",
     "output_type": "stream",
     "text": [
      "Accuracy: 85.15%\n",
      "[[ 152.   51.   26. 1771.]\n",
      " [ 185.    0.    6. 1809.]\n",
      " [ 174.   68.   36. 1722.]\n",
      " [ 170.   21.   21. 1788.]\n",
      " [ 158.   47.   54. 1741.]\n",
      " [ 188.    4.   26. 1782.]\n",
      " [ 100.   60.  100. 1740.]\n",
      " [ 188.   19.   10. 1783.]\n",
      " [ 212.    5.    7. 1776.]\n",
      " [ 176.   22.   11. 1791.]]\n",
      "[[96.15  0.75  0.85  0.8   0.85  0.03]\n",
      " [99.7   1.    0.97  0.98  0.97  0.  ]\n",
      " [94.8   0.72  0.83  0.77  0.83  0.04]\n",
      " [97.9   0.89  0.89  0.89  0.89  0.01]\n",
      " [94.95  0.77  0.75  0.76  0.75  0.03]\n",
      " [98.5   0.98  0.88  0.93  0.88  0.  ]\n",
      " [92.    0.62  0.5   0.56  0.5   0.03]\n",
      " [98.55  0.91  0.95  0.93  0.95  0.01]\n",
      " [99.4   0.98  0.97  0.97  0.97  0.  ]\n",
      " [98.35  0.89  0.94  0.91  0.94  0.01]]\n"
     ]
    }
   ],
   "source": [
    "# test data\n",
    "var_desired = 0.96\n",
    "test_labeled_data = test_data[:, 0:2000]\n",
    "test_pre_label = KNN(X_hat_reconst, Train_labels, test_labeled_data, 6)\n",
    "correct = [1 if i == j else 0 for (i, j) in zip(test_pre_label, test_label)]\n",
    "accuracy_test= (sum(correct) / float(len(test_label)))\n",
    "print('Accuracy: {}%'.format(np.round(accuracy_test*100, 2)))\n",
    "\n",
    "Conf_mat4All_test, Param_mat4All_test = FindConfMat(test_pre_label, test_label)\n",
    "np.set_printoptions(suppress=True)\n",
    "print(Conf_mat4All_test)\n",
    "print(np.round(Param_mat4All_test, 2))"
   ]
  },
  {
   "cell_type": "code",
   "execution_count": 22,
   "metadata": {},
   "outputs": [],
   "source": [
    "# remain test data\n",
    "pre_label_remain = []\n",
    "var_desired = 0.96\n",
    "Train_Data_mat, Train_labels, Val_Data_mat, Val_labels = Validation_dataset(data, label, 20)\n",
    "X_hat_reconst, n_components, comp_ratio = SVD(Train_Data_mat, var_desired)\n",
    "test_remain_data = test_data[:, 2000:5000]\n",
    "test_remain_pre_label = KNN(X_hat_reconst, Train_labels, test_remain_data, 6)"
   ]
  },
  {
   "cell_type": "code",
   "execution_count": 47,
   "metadata": {},
   "outputs": [
    {
     "name": "stdout",
     "output_type": "stream",
     "text": [
      "5000\n"
     ]
    }
   ],
   "source": [
    "output = test_pre_label + test_remain_pre_label\n",
    "print(len(output))"
   ]
  },
  {
   "cell_type": "code",
   "execution_count": 48,
   "metadata": {},
   "outputs": [],
   "source": [
    "with h5py.File('predicted_labels.h5','w') as H:\n",
    "    H.create_dataset('label',data=output)"
   ]
  }
 ],
 "metadata": {
  "kernelspec": {
   "display_name": "Python 3",
   "language": "python",
   "name": "python3"
  },
  "language_info": {
   "codemirror_mode": {
    "name": "ipython",
    "version": 3
   },
   "file_extension": ".py",
   "mimetype": "text/x-python",
   "name": "python",
   "nbconvert_exporter": "python",
   "pygments_lexer": "ipython3",
   "version": "3.6.5"
  }
 },
 "nbformat": 4,
 "nbformat_minor": 2
}
